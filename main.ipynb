{
 "cells": [
  {
   "cell_type": "code",
   "execution_count": 126,
   "id": "7e428387",
   "metadata": {},
   "outputs": [],
   "source": [
    "import pandas as pd\n",
    "weather = pd.read_csv(\"data2_modified.csv\", index_col=\"date\")\n"
   ]
  },
  {
   "cell_type": "code",
   "execution_count": 173,
   "id": "ea6720d1",
   "metadata": {},
   "outputs": [
    {
     "data": {
      "text/html": [
       "<div>\n",
       "<style scoped>\n",
       "    .dataframe tbody tr th:only-of-type {\n",
       "        vertical-align: middle;\n",
       "    }\n",
       "\n",
       "    .dataframe tbody tr th {\n",
       "        vertical-align: top;\n",
       "    }\n",
       "\n",
       "    .dataframe thead th {\n",
       "        text-align: right;\n",
       "    }\n",
       "</style>\n",
       "<table border=\"1\" class=\"dataframe\">\n",
       "  <thead>\n",
       "    <tr style=\"text-align: right;\">\n",
       "      <th></th>\n",
       "      <th>TS</th>\n",
       "      <th>QV2M</th>\n",
       "      <th>PRECTOTCORR</th>\n",
       "    </tr>\n",
       "    <tr>\n",
       "      <th>date</th>\n",
       "      <th></th>\n",
       "      <th></th>\n",
       "      <th></th>\n",
       "    </tr>\n",
       "  </thead>\n",
       "  <tbody>\n",
       "    <tr>\n",
       "      <th>1982-01-01</th>\n",
       "      <td>15.33</td>\n",
       "      <td>5.86</td>\n",
       "      <td>0.00</td>\n",
       "    </tr>\n",
       "    <tr>\n",
       "      <th>1982-01-02</th>\n",
       "      <td>14.92</td>\n",
       "      <td>5.62</td>\n",
       "      <td>0.00</td>\n",
       "    </tr>\n",
       "    <tr>\n",
       "      <th>1982-01-03</th>\n",
       "      <td>15.54</td>\n",
       "      <td>5.43</td>\n",
       "      <td>0.00</td>\n",
       "    </tr>\n",
       "    <tr>\n",
       "      <th>1982-01-04</th>\n",
       "      <td>16.52</td>\n",
       "      <td>6.35</td>\n",
       "      <td>0.36</td>\n",
       "    </tr>\n",
       "    <tr>\n",
       "      <th>1982-01-05</th>\n",
       "      <td>18.86</td>\n",
       "      <td>8.00</td>\n",
       "      <td>0.35</td>\n",
       "    </tr>\n",
       "    <tr>\n",
       "      <th>...</th>\n",
       "      <td>...</td>\n",
       "      <td>...</td>\n",
       "      <td>...</td>\n",
       "    </tr>\n",
       "    <tr>\n",
       "      <th>2023-12-28</th>\n",
       "      <td>18.74</td>\n",
       "      <td>10.74</td>\n",
       "      <td>0.00</td>\n",
       "    </tr>\n",
       "    <tr>\n",
       "      <th>2023-12-29</th>\n",
       "      <td>18.73</td>\n",
       "      <td>10.86</td>\n",
       "      <td>0.01</td>\n",
       "    </tr>\n",
       "    <tr>\n",
       "      <th>2023-12-30</th>\n",
       "      <td>18.24</td>\n",
       "      <td>10.25</td>\n",
       "      <td>0.00</td>\n",
       "    </tr>\n",
       "    <tr>\n",
       "      <th>2023-12-31</th>\n",
       "      <td>17.09</td>\n",
       "      <td>9.58</td>\n",
       "      <td>0.00</td>\n",
       "    </tr>\n",
       "    <tr>\n",
       "      <th>2024-01-01</th>\n",
       "      <td>16.30</td>\n",
       "      <td>8.67</td>\n",
       "      <td>0.00</td>\n",
       "    </tr>\n",
       "  </tbody>\n",
       "</table>\n",
       "<p>15341 rows × 3 columns</p>\n",
       "</div>"
      ],
      "text/plain": [
       "               TS   QV2M  PRECTOTCORR\n",
       "date                                 \n",
       "1982-01-01  15.33   5.86         0.00\n",
       "1982-01-02  14.92   5.62         0.00\n",
       "1982-01-03  15.54   5.43         0.00\n",
       "1982-01-04  16.52   6.35         0.36\n",
       "1982-01-05  18.86   8.00         0.35\n",
       "...           ...    ...          ...\n",
       "2023-12-28  18.74  10.74         0.00\n",
       "2023-12-29  18.73  10.86         0.01\n",
       "2023-12-30  18.24  10.25         0.00\n",
       "2023-12-31  17.09   9.58         0.00\n",
       "2024-01-01  16.30   8.67         0.00\n",
       "\n",
       "[15341 rows x 3 columns]"
      ]
     },
     "execution_count": 173,
     "metadata": {},
     "output_type": "execute_result"
    }
   ],
   "source": [
    "weather "
   ]
  },
  {
   "cell_type": "raw",
   "id": "d03963b3",
   "metadata": {},
   "source": [
    "weather.apply(pd.isnull).sum()"
   ]
  },
  {
   "cell_type": "code",
   "execution_count": 174,
   "id": "04fd9c23",
   "metadata": {},
   "outputs": [
    {
     "ename": "NameError",
     "evalue": "name 'your_dataframe' is not defined",
     "output_type": "error",
     "traceback": [
      "\u001b[1;31m---------------------------------------------------------------------------\u001b[0m",
      "\u001b[1;31mNameError\u001b[0m                                 Traceback (most recent call last)",
      "Cell \u001b[1;32mIn[174], line 1\u001b[0m\n\u001b[1;32m----> 1\u001b[0m your_dataframe\u001b[38;5;241m.\u001b[39mto_csv(\u001b[38;5;124m'\u001b[39m\u001b[38;5;124myour_data.csv\u001b[39m\u001b[38;5;124m'\u001b[39m, index\u001b[38;5;241m=\u001b[39m\u001b[38;5;28;01mFalse\u001b[39;00m)\n",
      "\u001b[1;31mNameError\u001b[0m: name 'your_dataframe' is not defined"
     ]
    }
   ],
   "source": []
  },
  {
   "cell_type": "code",
   "execution_count": 132,
   "id": "ab0b74d1",
   "metadata": {},
   "outputs": [
    {
     "data": {
      "text/plain": [
       "TS             0.0\n",
       "QV2M           0.0\n",
       "PRECTOTCORR    0.0\n",
       "dtype: float64"
      ]
     },
     "execution_count": 132,
     "metadata": {},
     "output_type": "execute_result"
    }
   ],
   "source": [
    "weather.apply(pd.isnull).sum()/weather.shape[0]"
   ]
  },
  {
   "cell_type": "code",
   "execution_count": 134,
   "id": "76647fc2",
   "metadata": {},
   "outputs": [
    {
     "data": {
      "text/plain": [
       "Index(['TS', 'QV2M', 'PRECTOTCORR'], dtype='object')"
      ]
     },
     "execution_count": 134,
     "metadata": {},
     "output_type": "execute_result"
    }
   ],
   "source": [
    "weather.columns"
   ]
  },
  {
   "cell_type": "code",
   "execution_count": 37,
   "id": "a4e55d58",
   "metadata": {},
   "outputs": [],
   "source": [
    "core_weather = weather.copy()"
   ]
  },
  {
   "cell_type": "code",
   "execution_count": 38,
   "id": "23d1f9f6",
   "metadata": {},
   "outputs": [],
   "source": [
    "core_weather.columns= [\"temp_avg\", \"humidity\",\"precip\"]"
   ]
  },
  {
   "cell_type": "code",
   "execution_count": 39,
   "id": "adc4dcd8",
   "metadata": {},
   "outputs": [
    {
     "data": {
      "text/html": [
       "<div>\n",
       "<style scoped>\n",
       "    .dataframe tbody tr th:only-of-type {\n",
       "        vertical-align: middle;\n",
       "    }\n",
       "\n",
       "    .dataframe tbody tr th {\n",
       "        vertical-align: top;\n",
       "    }\n",
       "\n",
       "    .dataframe thead th {\n",
       "        text-align: right;\n",
       "    }\n",
       "</style>\n",
       "<table border=\"1\" class=\"dataframe\">\n",
       "  <thead>\n",
       "    <tr style=\"text-align: right;\">\n",
       "      <th></th>\n",
       "      <th>temp_avg</th>\n",
       "      <th>humidity</th>\n",
       "      <th>precip</th>\n",
       "    </tr>\n",
       "    <tr>\n",
       "      <th>date</th>\n",
       "      <th></th>\n",
       "      <th></th>\n",
       "      <th></th>\n",
       "    </tr>\n",
       "  </thead>\n",
       "  <tbody>\n",
       "    <tr>\n",
       "      <th>1982-01-01</th>\n",
       "      <td>15.33</td>\n",
       "      <td>5.86</td>\n",
       "      <td>0.00</td>\n",
       "    </tr>\n",
       "    <tr>\n",
       "      <th>1982-01-02</th>\n",
       "      <td>14.92</td>\n",
       "      <td>5.62</td>\n",
       "      <td>0.00</td>\n",
       "    </tr>\n",
       "    <tr>\n",
       "      <th>1982-01-03</th>\n",
       "      <td>15.54</td>\n",
       "      <td>5.43</td>\n",
       "      <td>0.00</td>\n",
       "    </tr>\n",
       "    <tr>\n",
       "      <th>1982-01-04</th>\n",
       "      <td>16.52</td>\n",
       "      <td>6.35</td>\n",
       "      <td>0.36</td>\n",
       "    </tr>\n",
       "    <tr>\n",
       "      <th>1982-01-05</th>\n",
       "      <td>18.86</td>\n",
       "      <td>8.00</td>\n",
       "      <td>0.35</td>\n",
       "    </tr>\n",
       "    <tr>\n",
       "      <th>...</th>\n",
       "      <td>...</td>\n",
       "      <td>...</td>\n",
       "      <td>...</td>\n",
       "    </tr>\n",
       "    <tr>\n",
       "      <th>2023-12-28</th>\n",
       "      <td>18.74</td>\n",
       "      <td>10.74</td>\n",
       "      <td>0.00</td>\n",
       "    </tr>\n",
       "    <tr>\n",
       "      <th>2023-12-29</th>\n",
       "      <td>18.73</td>\n",
       "      <td>10.86</td>\n",
       "      <td>0.01</td>\n",
       "    </tr>\n",
       "    <tr>\n",
       "      <th>2023-12-30</th>\n",
       "      <td>18.24</td>\n",
       "      <td>10.25</td>\n",
       "      <td>0.00</td>\n",
       "    </tr>\n",
       "    <tr>\n",
       "      <th>2023-12-31</th>\n",
       "      <td>17.09</td>\n",
       "      <td>9.58</td>\n",
       "      <td>0.00</td>\n",
       "    </tr>\n",
       "    <tr>\n",
       "      <th>2024-01-01</th>\n",
       "      <td>16.30</td>\n",
       "      <td>8.67</td>\n",
       "      <td>0.00</td>\n",
       "    </tr>\n",
       "  </tbody>\n",
       "</table>\n",
       "<p>15341 rows × 3 columns</p>\n",
       "</div>"
      ],
      "text/plain": [
       "            temp_avg  humidity  precip\n",
       "date                                  \n",
       "1982-01-01     15.33      5.86    0.00\n",
       "1982-01-02     14.92      5.62    0.00\n",
       "1982-01-03     15.54      5.43    0.00\n",
       "1982-01-04     16.52      6.35    0.36\n",
       "1982-01-05     18.86      8.00    0.35\n",
       "...              ...       ...     ...\n",
       "2023-12-28     18.74     10.74    0.00\n",
       "2023-12-29     18.73     10.86    0.01\n",
       "2023-12-30     18.24     10.25    0.00\n",
       "2023-12-31     17.09      9.58    0.00\n",
       "2024-01-01     16.30      8.67    0.00\n",
       "\n",
       "[15341 rows x 3 columns]"
      ]
     },
     "execution_count": 39,
     "metadata": {},
     "output_type": "execute_result"
    }
   ],
   "source": [
    "core_weather"
   ]
  },
  {
   "cell_type": "code",
   "execution_count": 40,
   "id": "6f952947",
   "metadata": {},
   "outputs": [
    {
     "data": {
      "text/plain": [
       "temp_avg    0.0\n",
       "humidity    0.0\n",
       "precip      0.0\n",
       "dtype: float64"
      ]
     },
     "execution_count": 40,
     "metadata": {},
     "output_type": "execute_result"
    }
   ],
   "source": [
    "core_weather.apply(pd.isnull).sum()/weather.shape[0]"
   ]
  },
  {
   "cell_type": "code",
   "execution_count": 42,
   "id": "128bde3d",
   "metadata": {},
   "outputs": [
    {
     "data": {
      "text/plain": [
       "temp_avg\n",
       "29.51    40\n",
       "28.65    37\n",
       "28.94    36\n",
       "28.40    35\n",
       "29.01    33\n",
       "         ..\n",
       "37.79     1\n",
       "14.62     1\n",
       "13.69     1\n",
       "12.92     1\n",
       "14.79     1\n",
       "Name: count, Length: 2536, dtype: int64"
      ]
     },
     "execution_count": 42,
     "metadata": {},
     "output_type": "execute_result"
    }
   ],
   "source": [
    "core_weather[\"temp_avg\"].value_counts()"
   ]
  },
  {
   "cell_type": "code",
   "execution_count": 43,
   "id": "f765f721",
   "metadata": {},
   "outputs": [
    {
     "data": {
      "text/plain": [
       "temp_avg    float64\n",
       "humidity    float64\n",
       "precip      float64\n",
       "dtype: object"
      ]
     },
     "execution_count": 43,
     "metadata": {},
     "output_type": "execute_result"
    }
   ],
   "source": [
    "core_weather.dtypes"
   ]
  },
  {
   "cell_type": "code",
   "execution_count": 45,
   "id": "e8daea5d",
   "metadata": {},
   "outputs": [
    {
     "data": {
      "text/plain": [
       "Index(['1982-01-01', '1982-01-02', '1982-01-03', '1982-01-04', '1982-01-05',\n",
       "       '1982-01-06', '1982-01-07', '1982-01-08', '1982-01-09', '1982-01-10',\n",
       "       ...\n",
       "       '2023-12-23', '2023-12-24', '2023-12-25', '2023-12-26', '2023-12-27',\n",
       "       '2023-12-28', '2023-12-29', '2023-12-30', '2023-12-31', '2024-01-01'],\n",
       "      dtype='object', name='date', length=15341)"
      ]
     },
     "execution_count": 45,
     "metadata": {},
     "output_type": "execute_result"
    }
   ],
   "source": [
    "core_weather.index"
   ]
  },
  {
   "cell_type": "code",
   "execution_count": 48,
   "id": "62ef872e",
   "metadata": {},
   "outputs": [],
   "source": [
    "core_weather.index=pd.to_datetime(core_weather.index)"
   ]
  },
  {
   "cell_type": "code",
   "execution_count": 50,
   "id": "09e540a9",
   "metadata": {},
   "outputs": [
    {
     "data": {
      "text/plain": [
       "DatetimeIndex(['1982-01-01', '1982-01-02', '1982-01-03', '1982-01-04',\n",
       "               '1982-01-05', '1982-01-06', '1982-01-07', '1982-01-08',\n",
       "               '1982-01-09', '1982-01-10',\n",
       "               ...\n",
       "               '2023-12-23', '2023-12-24', '2023-12-25', '2023-12-26',\n",
       "               '2023-12-27', '2023-12-28', '2023-12-29', '2023-12-30',\n",
       "               '2023-12-31', '2024-01-01'],\n",
       "              dtype='datetime64[ns]', name='date', length=15341, freq=None)"
      ]
     },
     "execution_count": 50,
     "metadata": {},
     "output_type": "execute_result"
    }
   ],
   "source": [
    "core_weather.index"
   ]
  },
  {
   "cell_type": "code",
   "execution_count": 53,
   "id": "1e831a40",
   "metadata": {},
   "outputs": [
    {
     "data": {
      "text/html": [
       "<div>\n",
       "<style scoped>\n",
       "    .dataframe tbody tr th:only-of-type {\n",
       "        vertical-align: middle;\n",
       "    }\n",
       "\n",
       "    .dataframe tbody tr th {\n",
       "        vertical-align: top;\n",
       "    }\n",
       "\n",
       "    .dataframe thead th {\n",
       "        text-align: right;\n",
       "    }\n",
       "</style>\n",
       "<table border=\"1\" class=\"dataframe\">\n",
       "  <thead>\n",
       "    <tr style=\"text-align: right;\">\n",
       "      <th></th>\n",
       "      <th>temp_avg</th>\n",
       "      <th>humidity</th>\n",
       "      <th>precip</th>\n",
       "    </tr>\n",
       "    <tr>\n",
       "      <th>date</th>\n",
       "      <th></th>\n",
       "      <th></th>\n",
       "      <th></th>\n",
       "    </tr>\n",
       "  </thead>\n",
       "  <tbody>\n",
       "    <tr>\n",
       "      <th>1982-01-01</th>\n",
       "      <td>15.33</td>\n",
       "      <td>5.86</td>\n",
       "      <td>0.00</td>\n",
       "    </tr>\n",
       "    <tr>\n",
       "      <th>1982-01-02</th>\n",
       "      <td>14.92</td>\n",
       "      <td>5.62</td>\n",
       "      <td>0.00</td>\n",
       "    </tr>\n",
       "    <tr>\n",
       "      <th>1982-01-03</th>\n",
       "      <td>15.54</td>\n",
       "      <td>5.43</td>\n",
       "      <td>0.00</td>\n",
       "    </tr>\n",
       "    <tr>\n",
       "      <th>1982-01-04</th>\n",
       "      <td>16.52</td>\n",
       "      <td>6.35</td>\n",
       "      <td>0.36</td>\n",
       "    </tr>\n",
       "    <tr>\n",
       "      <th>1982-01-05</th>\n",
       "      <td>18.86</td>\n",
       "      <td>8.00</td>\n",
       "      <td>0.35</td>\n",
       "    </tr>\n",
       "    <tr>\n",
       "      <th>...</th>\n",
       "      <td>...</td>\n",
       "      <td>...</td>\n",
       "      <td>...</td>\n",
       "    </tr>\n",
       "    <tr>\n",
       "      <th>2023-12-28</th>\n",
       "      <td>18.74</td>\n",
       "      <td>10.74</td>\n",
       "      <td>0.00</td>\n",
       "    </tr>\n",
       "    <tr>\n",
       "      <th>2023-12-29</th>\n",
       "      <td>18.73</td>\n",
       "      <td>10.86</td>\n",
       "      <td>0.01</td>\n",
       "    </tr>\n",
       "    <tr>\n",
       "      <th>2023-12-30</th>\n",
       "      <td>18.24</td>\n",
       "      <td>10.25</td>\n",
       "      <td>0.00</td>\n",
       "    </tr>\n",
       "    <tr>\n",
       "      <th>2023-12-31</th>\n",
       "      <td>17.09</td>\n",
       "      <td>9.58</td>\n",
       "      <td>0.00</td>\n",
       "    </tr>\n",
       "    <tr>\n",
       "      <th>2024-01-01</th>\n",
       "      <td>16.30</td>\n",
       "      <td>8.67</td>\n",
       "      <td>0.00</td>\n",
       "    </tr>\n",
       "  </tbody>\n",
       "</table>\n",
       "<p>15341 rows × 3 columns</p>\n",
       "</div>"
      ],
      "text/plain": [
       "            temp_avg  humidity  precip\n",
       "date                                  \n",
       "1982-01-01     15.33      5.86    0.00\n",
       "1982-01-02     14.92      5.62    0.00\n",
       "1982-01-03     15.54      5.43    0.00\n",
       "1982-01-04     16.52      6.35    0.36\n",
       "1982-01-05     18.86      8.00    0.35\n",
       "...              ...       ...     ...\n",
       "2023-12-28     18.74     10.74    0.00\n",
       "2023-12-29     18.73     10.86    0.01\n",
       "2023-12-30     18.24     10.25    0.00\n",
       "2023-12-31     17.09      9.58    0.00\n",
       "2024-01-01     16.30      8.67    0.00\n",
       "\n",
       "[15341 rows x 3 columns]"
      ]
     },
     "execution_count": 53,
     "metadata": {},
     "output_type": "execute_result"
    }
   ],
   "source": [
    "core_weather"
   ]
  },
  {
   "cell_type": "code",
   "execution_count": 55,
   "id": "d63a8ef8",
   "metadata": {},
   "outputs": [
    {
     "data": {
      "text/plain": [
       "temp_avg    0\n",
       "humidity    0\n",
       "precip      0\n",
       "dtype: int64"
      ]
     },
     "execution_count": 55,
     "metadata": {},
     "output_type": "execute_result"
    }
   ],
   "source": [
    "core_weather.apply(lambda x: (x==9999).sum())"
   ]
  },
  {
   "cell_type": "code",
   "execution_count": 57,
   "id": "357dfcd7",
   "metadata": {},
   "outputs": [
    {
     "data": {
      "text/plain": [
       "<Axes: xlabel='date'>"
      ]
     },
     "execution_count": 57,
     "metadata": {},
     "output_type": "execute_result"
    },
    {
     "data": {
      "image/png": "[encoded data removed]",
      "text/plain": [
       "<Figure size 640x480 with 1 Axes>"
      ]
     },
     "metadata": {},
     "output_type": "display_data"
    }
   ],
   "source": [
    "core_weather.plot()"
   ]
  },
  {
   "cell_type": "code",
   "execution_count": 59,
   "id": "6fb8e6c2",
   "metadata": {},
   "outputs": [
    {
     "data": {
      "text/plain": [
       "<Axes: xlabel='date'>"
      ]
     },
     "execution_count": 59,
     "metadata": {},
     "output_type": "execute_result"
    },
    {
     "data": {
      "image/png": "[encoded data removed]",
      "text/plain": [
       "<Figure size 640x480 with 1 Axes>"
      ]
     },
     "metadata": {},
     "output_type": "display_data"
    }
   ],
   "source": [
    "core_weather[\"temp_avg\"].plot()"
   ]
  },
  {
   "cell_type": "code",
   "execution_count": 60,
   "id": "908ac6bc",
   "metadata": {},
   "outputs": [
    {
     "data": {
      "text/plain": [
       "<Axes: xlabel='date'>"
      ]
     },
     "execution_count": 60,
     "metadata": {},
     "output_type": "execute_result"
    },
    {
     "data": {
      "image/png": "[encoded data removed]",
      "text/plain": [
       "<Figure size 640x480 with 1 Axes>"
      ]
     },
     "metadata": {},
     "output_type": "display_data"
    }
   ],
   "source": [
    "core_weather[\"humidity\"].plot()"
   ]
  },
  {
   "cell_type": "code",
   "execution_count": 61,
   "id": "35f21011",
   "metadata": {},
   "outputs": [
    {
     "data": {
      "text/plain": [
       "<Axes: xlabel='date'>"
      ]
     },
     "execution_count": 61,
     "metadata": {},
     "output_type": "execute_result"
    },
    {
     "data": {
      "image/png": "[encoded data removed]",
      "text/plain": [
       "<Figure size 640x480 with 1 Axes>"
      ]
     },
     "metadata": {},
     "output_type": "display_data"
    }
   ],
   "source": [
    "core_weather[\"precip\"].plot()"
   ]
  },
  {
   "cell_type": "code",
   "execution_count": 62,
   "id": "ce95e070",
   "metadata": {},
   "outputs": [
    {
     "data": {
      "text/plain": [
       "date\n",
       "1982-01-01    0.00\n",
       "1982-01-02    0.00\n",
       "1982-01-03    0.00\n",
       "1982-01-04    0.36\n",
       "1982-01-05    0.35\n",
       "              ... \n",
       "2023-12-28    0.00\n",
       "2023-12-29    0.01\n",
       "2023-12-30    0.00\n",
       "2023-12-31    0.00\n",
       "2024-01-01    0.00\n",
       "Name: precip, Length: 15341, dtype: float64"
      ]
     },
     "execution_count": 62,
     "metadata": {},
     "output_type": "execute_result"
    }
   ],
   "source": [
    "core_weather[\"precip\"]"
   ]
  },
  {
   "cell_type": "code",
   "execution_count": 64,
   "id": "b7d2239a",
   "metadata": {},
   "outputs": [],
   "source": [
    "core_weather[\"target\"] = core_weather.shift(-1)[\"temp_avg\"]"
   ]
  },
  {
   "cell_type": "code",
   "execution_count": 66,
   "id": "0fd9ab44",
   "metadata": {},
   "outputs": [
    {
     "data": {
      "text/html": [
       "<div>\n",
       "<style scoped>\n",
       "    .dataframe tbody tr th:only-of-type {\n",
       "        vertical-align: middle;\n",
       "    }\n",
       "\n",
       "    .dataframe tbody tr th {\n",
       "        vertical-align: top;\n",
       "    }\n",
       "\n",
       "    .dataframe thead th {\n",
       "        text-align: right;\n",
       "    }\n",
       "</style>\n",
       "<table border=\"1\" class=\"dataframe\">\n",
       "  <thead>\n",
       "    <tr style=\"text-align: right;\">\n",
       "      <th></th>\n",
       "      <th>temp_avg</th>\n",
       "      <th>humidity</th>\n",
       "      <th>precip</th>\n",
       "      <th>target</th>\n",
       "    </tr>\n",
       "    <tr>\n",
       "      <th>date</th>\n",
       "      <th></th>\n",
       "      <th></th>\n",
       "      <th></th>\n",
       "      <th></th>\n",
       "    </tr>\n",
       "  </thead>\n",
       "  <tbody>\n",
       "    <tr>\n",
       "      <th>1982-01-01</th>\n",
       "      <td>15.33</td>\n",
       "      <td>5.86</td>\n",
       "      <td>0.00</td>\n",
       "      <td>14.92</td>\n",
       "    </tr>\n",
       "    <tr>\n",
       "      <th>1982-01-02</th>\n",
       "      <td>14.92</td>\n",
       "      <td>5.62</td>\n",
       "      <td>0.00</td>\n",
       "      <td>15.54</td>\n",
       "    </tr>\n",
       "    <tr>\n",
       "      <th>1982-01-03</th>\n",
       "      <td>15.54</td>\n",
       "      <td>5.43</td>\n",
       "      <td>0.00</td>\n",
       "      <td>16.52</td>\n",
       "    </tr>\n",
       "    <tr>\n",
       "      <th>1982-01-04</th>\n",
       "      <td>16.52</td>\n",
       "      <td>6.35</td>\n",
       "      <td>0.36</td>\n",
       "      <td>18.86</td>\n",
       "    </tr>\n",
       "    <tr>\n",
       "      <th>1982-01-05</th>\n",
       "      <td>18.86</td>\n",
       "      <td>8.00</td>\n",
       "      <td>0.35</td>\n",
       "      <td>18.87</td>\n",
       "    </tr>\n",
       "    <tr>\n",
       "      <th>...</th>\n",
       "      <td>...</td>\n",
       "      <td>...</td>\n",
       "      <td>...</td>\n",
       "      <td>...</td>\n",
       "    </tr>\n",
       "    <tr>\n",
       "      <th>2023-12-28</th>\n",
       "      <td>18.74</td>\n",
       "      <td>10.74</td>\n",
       "      <td>0.00</td>\n",
       "      <td>18.73</td>\n",
       "    </tr>\n",
       "    <tr>\n",
       "      <th>2023-12-29</th>\n",
       "      <td>18.73</td>\n",
       "      <td>10.86</td>\n",
       "      <td>0.01</td>\n",
       "      <td>18.24</td>\n",
       "    </tr>\n",
       "    <tr>\n",
       "      <th>2023-12-30</th>\n",
       "      <td>18.24</td>\n",
       "      <td>10.25</td>\n",
       "      <td>0.00</td>\n",
       "      <td>17.09</td>\n",
       "    </tr>\n",
       "    <tr>\n",
       "      <th>2023-12-31</th>\n",
       "      <td>17.09</td>\n",
       "      <td>9.58</td>\n",
       "      <td>0.00</td>\n",
       "      <td>16.30</td>\n",
       "    </tr>\n",
       "    <tr>\n",
       "      <th>2024-01-01</th>\n",
       "      <td>16.30</td>\n",
       "      <td>8.67</td>\n",
       "      <td>0.00</td>\n",
       "      <td>NaN</td>\n",
       "    </tr>\n",
       "  </tbody>\n",
       "</table>\n",
       "<p>15341 rows × 4 columns</p>\n",
       "</div>"
      ],
      "text/plain": [
       "            temp_avg  humidity  precip  target\n",
       "date                                          \n",
       "1982-01-01     15.33      5.86    0.00   14.92\n",
       "1982-01-02     14.92      5.62    0.00   15.54\n",
       "1982-01-03     15.54      5.43    0.00   16.52\n",
       "1982-01-04     16.52      6.35    0.36   18.86\n",
       "1982-01-05     18.86      8.00    0.35   18.87\n",
       "...              ...       ...     ...     ...\n",
       "2023-12-28     18.74     10.74    0.00   18.73\n",
       "2023-12-29     18.73     10.86    0.01   18.24\n",
       "2023-12-30     18.24     10.25    0.00   17.09\n",
       "2023-12-31     17.09      9.58    0.00   16.30\n",
       "2024-01-01     16.30      8.67    0.00     NaN\n",
       "\n",
       "[15341 rows x 4 columns]"
      ]
     },
     "execution_count": 66,
     "metadata": {},
     "output_type": "execute_result"
    }
   ],
   "source": [
    "core_weather"
   ]
  },
  {
   "cell_type": "code",
   "execution_count": 67,
   "id": "99242843",
   "metadata": {},
   "outputs": [],
   "source": [
    "core_weather= core_weather.iloc[:-1,:].copy()"
   ]
  },
  {
   "cell_type": "code",
   "execution_count": 68,
   "id": "02eea9ca",
   "metadata": {},
   "outputs": [
    {
     "data": {
      "text/html": [
       "<div>\n",
       "<style scoped>\n",
       "    .dataframe tbody tr th:only-of-type {\n",
       "        vertical-align: middle;\n",
       "    }\n",
       "\n",
       "    .dataframe tbody tr th {\n",
       "        vertical-align: top;\n",
       "    }\n",
       "\n",
       "    .dataframe thead th {\n",
       "        text-align: right;\n",
       "    }\n",
       "</style>\n",
       "<table border=\"1\" class=\"dataframe\">\n",
       "  <thead>\n",
       "    <tr style=\"text-align: right;\">\n",
       "      <th></th>\n",
       "      <th>temp_avg</th>\n",
       "      <th>humidity</th>\n",
       "      <th>precip</th>\n",
       "      <th>target</th>\n",
       "    </tr>\n",
       "    <tr>\n",
       "      <th>date</th>\n",
       "      <th></th>\n",
       "      <th></th>\n",
       "      <th></th>\n",
       "      <th></th>\n",
       "    </tr>\n",
       "  </thead>\n",
       "  <tbody>\n",
       "    <tr>\n",
       "      <th>1982-01-01</th>\n",
       "      <td>15.33</td>\n",
       "      <td>5.86</td>\n",
       "      <td>0.00</td>\n",
       "      <td>14.92</td>\n",
       "    </tr>\n",
       "    <tr>\n",
       "      <th>1982-01-02</th>\n",
       "      <td>14.92</td>\n",
       "      <td>5.62</td>\n",
       "      <td>0.00</td>\n",
       "      <td>15.54</td>\n",
       "    </tr>\n",
       "    <tr>\n",
       "      <th>1982-01-03</th>\n",
       "      <td>15.54</td>\n",
       "      <td>5.43</td>\n",
       "      <td>0.00</td>\n",
       "      <td>16.52</td>\n",
       "    </tr>\n",
       "    <tr>\n",
       "      <th>1982-01-04</th>\n",
       "      <td>16.52</td>\n",
       "      <td>6.35</td>\n",
       "      <td>0.36</td>\n",
       "      <td>18.86</td>\n",
       "    </tr>\n",
       "    <tr>\n",
       "      <th>1982-01-05</th>\n",
       "      <td>18.86</td>\n",
       "      <td>8.00</td>\n",
       "      <td>0.35</td>\n",
       "      <td>18.87</td>\n",
       "    </tr>\n",
       "    <tr>\n",
       "      <th>...</th>\n",
       "      <td>...</td>\n",
       "      <td>...</td>\n",
       "      <td>...</td>\n",
       "      <td>...</td>\n",
       "    </tr>\n",
       "    <tr>\n",
       "      <th>2023-12-27</th>\n",
       "      <td>18.48</td>\n",
       "      <td>11.05</td>\n",
       "      <td>0.02</td>\n",
       "      <td>18.74</td>\n",
       "    </tr>\n",
       "    <tr>\n",
       "      <th>2023-12-28</th>\n",
       "      <td>18.74</td>\n",
       "      <td>10.74</td>\n",
       "      <td>0.00</td>\n",
       "      <td>18.73</td>\n",
       "    </tr>\n",
       "    <tr>\n",
       "      <th>2023-12-29</th>\n",
       "      <td>18.73</td>\n",
       "      <td>10.86</td>\n",
       "      <td>0.01</td>\n",
       "      <td>18.24</td>\n",
       "    </tr>\n",
       "    <tr>\n",
       "      <th>2023-12-30</th>\n",
       "      <td>18.24</td>\n",
       "      <td>10.25</td>\n",
       "      <td>0.00</td>\n",
       "      <td>17.09</td>\n",
       "    </tr>\n",
       "    <tr>\n",
       "      <th>2023-12-31</th>\n",
       "      <td>17.09</td>\n",
       "      <td>9.58</td>\n",
       "      <td>0.00</td>\n",
       "      <td>16.30</td>\n",
       "    </tr>\n",
       "  </tbody>\n",
       "</table>\n",
       "<p>15340 rows × 4 columns</p>\n",
       "</div>"
      ],
      "text/plain": [
       "            temp_avg  humidity  precip  target\n",
       "date                                          \n",
       "1982-01-01     15.33      5.86    0.00   14.92\n",
       "1982-01-02     14.92      5.62    0.00   15.54\n",
       "1982-01-03     15.54      5.43    0.00   16.52\n",
       "1982-01-04     16.52      6.35    0.36   18.86\n",
       "1982-01-05     18.86      8.00    0.35   18.87\n",
       "...              ...       ...     ...     ...\n",
       "2023-12-27     18.48     11.05    0.02   18.74\n",
       "2023-12-28     18.74     10.74    0.00   18.73\n",
       "2023-12-29     18.73     10.86    0.01   18.24\n",
       "2023-12-30     18.24     10.25    0.00   17.09\n",
       "2023-12-31     17.09      9.58    0.00   16.30\n",
       "\n",
       "[15340 rows x 4 columns]"
      ]
     },
     "execution_count": 68,
     "metadata": {},
     "output_type": "execute_result"
    }
   ],
   "source": [
    "core_weather"
   ]
  },
  {
   "cell_type": "code",
   "execution_count": 70,
   "id": "b3b8d72f",
   "metadata": {},
   "outputs": [],
   "source": [
    "from sklearn.linear_model import Ridge\n",
    "\n",
    "reg= Ridge(alpha=.1)"
   ]
  },
  {
   "cell_type": "code",
   "execution_count": 71,
   "id": "19cb4669",
   "metadata": {},
   "outputs": [
    {
     "data": {
      "text/plain": [
       "Index(['temp_avg', 'humidity', 'precip', 'target'], dtype='object')"
      ]
     },
     "execution_count": 71,
     "metadata": {},
     "output_type": "execute_result"
    }
   ],
   "source": [
    "core_weather.columns"
   ]
  },
  {
   "cell_type": "code",
   "execution_count": 72,
   "id": "3a345746",
   "metadata": {},
   "outputs": [],
   "source": [
    "predictor=[\"precip\",\"temp_avg\",\"humidity\"]"
   ]
  },
  {
   "cell_type": "code",
   "execution_count": 94,
   "id": "f56abe16",
   "metadata": {},
   "outputs": [
    {
     "data": {
      "text/html": [
       "<div>\n",
       "<style scoped>\n",
       "    .dataframe tbody tr th:only-of-type {\n",
       "        vertical-align: middle;\n",
       "    }\n",
       "\n",
       "    .dataframe tbody tr th {\n",
       "        vertical-align: top;\n",
       "    }\n",
       "\n",
       "    .dataframe thead th {\n",
       "        text-align: right;\n",
       "    }\n",
       "</style>\n",
       "<table border=\"1\" class=\"dataframe\">\n",
       "  <thead>\n",
       "    <tr style=\"text-align: right;\">\n",
       "      <th></th>\n",
       "      <th>temp_avg</th>\n",
       "      <th>humidity</th>\n",
       "      <th>precip</th>\n",
       "      <th>target</th>\n",
       "    </tr>\n",
       "    <tr>\n",
       "      <th>date</th>\n",
       "      <th></th>\n",
       "      <th></th>\n",
       "      <th></th>\n",
       "      <th></th>\n",
       "    </tr>\n",
       "  </thead>\n",
       "  <tbody>\n",
       "    <tr>\n",
       "      <th>1982-01-01</th>\n",
       "      <td>15.33</td>\n",
       "      <td>5.86</td>\n",
       "      <td>0.00</td>\n",
       "      <td>14.92</td>\n",
       "    </tr>\n",
       "    <tr>\n",
       "      <th>1982-01-02</th>\n",
       "      <td>14.92</td>\n",
       "      <td>5.62</td>\n",
       "      <td>0.00</td>\n",
       "      <td>15.54</td>\n",
       "    </tr>\n",
       "    <tr>\n",
       "      <th>1982-01-03</th>\n",
       "      <td>15.54</td>\n",
       "      <td>5.43</td>\n",
       "      <td>0.00</td>\n",
       "      <td>16.52</td>\n",
       "    </tr>\n",
       "    <tr>\n",
       "      <th>1982-01-04</th>\n",
       "      <td>16.52</td>\n",
       "      <td>6.35</td>\n",
       "      <td>0.36</td>\n",
       "      <td>18.86</td>\n",
       "    </tr>\n",
       "    <tr>\n",
       "      <th>1982-01-05</th>\n",
       "      <td>18.86</td>\n",
       "      <td>8.00</td>\n",
       "      <td>0.35</td>\n",
       "      <td>18.87</td>\n",
       "    </tr>\n",
       "    <tr>\n",
       "      <th>...</th>\n",
       "      <td>...</td>\n",
       "      <td>...</td>\n",
       "      <td>...</td>\n",
       "      <td>...</td>\n",
       "    </tr>\n",
       "    <tr>\n",
       "      <th>2018-12-27</th>\n",
       "      <td>13.40</td>\n",
       "      <td>4.64</td>\n",
       "      <td>0.00</td>\n",
       "      <td>13.46</td>\n",
       "    </tr>\n",
       "    <tr>\n",
       "      <th>2018-12-28</th>\n",
       "      <td>13.46</td>\n",
       "      <td>4.46</td>\n",
       "      <td>0.00</td>\n",
       "      <td>13.01</td>\n",
       "    </tr>\n",
       "    <tr>\n",
       "      <th>2018-12-29</th>\n",
       "      <td>13.01</td>\n",
       "      <td>4.58</td>\n",
       "      <td>0.00</td>\n",
       "      <td>14.10</td>\n",
       "    </tr>\n",
       "    <tr>\n",
       "      <th>2018-12-30</th>\n",
       "      <td>14.10</td>\n",
       "      <td>5.37</td>\n",
       "      <td>0.00</td>\n",
       "      <td>15.15</td>\n",
       "    </tr>\n",
       "    <tr>\n",
       "      <th>2018-12-31</th>\n",
       "      <td>15.15</td>\n",
       "      <td>6.10</td>\n",
       "      <td>0.00</td>\n",
       "      <td>15.97</td>\n",
       "    </tr>\n",
       "  </tbody>\n",
       "</table>\n",
       "<p>13514 rows × 4 columns</p>\n",
       "</div>"
      ],
      "text/plain": [
       "            temp_avg  humidity  precip  target\n",
       "date                                          \n",
       "1982-01-01     15.33      5.86    0.00   14.92\n",
       "1982-01-02     14.92      5.62    0.00   15.54\n",
       "1982-01-03     15.54      5.43    0.00   16.52\n",
       "1982-01-04     16.52      6.35    0.36   18.86\n",
       "1982-01-05     18.86      8.00    0.35   18.87\n",
       "...              ...       ...     ...     ...\n",
       "2018-12-27     13.40      4.64    0.00   13.46\n",
       "2018-12-28     13.46      4.46    0.00   13.01\n",
       "2018-12-29     13.01      4.58    0.00   14.10\n",
       "2018-12-30     14.10      5.37    0.00   15.15\n",
       "2018-12-31     15.15      6.10    0.00   15.97\n",
       "\n",
       "[13514 rows x 4 columns]"
      ]
     },
     "execution_count": 94,
     "metadata": {},
     "output_type": "execute_result"
    }
   ],
   "source": [
    "train=core_weather.loc[:\"2018-12-31\"]\n",
    "train"
   ]
  },
  {
   "cell_type": "code",
   "execution_count": 95,
   "id": "d10b51d9",
   "metadata": {},
   "outputs": [
    {
     "data": {
      "text/html": [
       "<div>\n",
       "<style scoped>\n",
       "    .dataframe tbody tr th:only-of-type {\n",
       "        vertical-align: middle;\n",
       "    }\n",
       "\n",
       "    .dataframe tbody tr th {\n",
       "        vertical-align: top;\n",
       "    }\n",
       "\n",
       "    .dataframe thead th {\n",
       "        text-align: right;\n",
       "    }\n",
       "</style>\n",
       "<table border=\"1\" class=\"dataframe\">\n",
       "  <thead>\n",
       "    <tr style=\"text-align: right;\">\n",
       "      <th></th>\n",
       "      <th>temp_avg</th>\n",
       "      <th>humidity</th>\n",
       "      <th>precip</th>\n",
       "      <th>target</th>\n",
       "    </tr>\n",
       "    <tr>\n",
       "      <th>date</th>\n",
       "      <th></th>\n",
       "      <th></th>\n",
       "      <th></th>\n",
       "      <th></th>\n",
       "    </tr>\n",
       "  </thead>\n",
       "  <tbody>\n",
       "    <tr>\n",
       "      <th>2019-01-01</th>\n",
       "      <td>15.97</td>\n",
       "      <td>6.35</td>\n",
       "      <td>0.00</td>\n",
       "      <td>16.44</td>\n",
       "    </tr>\n",
       "    <tr>\n",
       "      <th>2019-01-02</th>\n",
       "      <td>16.44</td>\n",
       "      <td>6.90</td>\n",
       "      <td>0.00</td>\n",
       "      <td>15.19</td>\n",
       "    </tr>\n",
       "    <tr>\n",
       "      <th>2019-01-03</th>\n",
       "      <td>15.19</td>\n",
       "      <td>5.74</td>\n",
       "      <td>0.00</td>\n",
       "      <td>14.06</td>\n",
       "    </tr>\n",
       "    <tr>\n",
       "      <th>2019-01-04</th>\n",
       "      <td>14.06</td>\n",
       "      <td>5.49</td>\n",
       "      <td>0.00</td>\n",
       "      <td>16.16</td>\n",
       "    </tr>\n",
       "    <tr>\n",
       "      <th>2019-01-05</th>\n",
       "      <td>16.16</td>\n",
       "      <td>7.08</td>\n",
       "      <td>0.00</td>\n",
       "      <td>17.73</td>\n",
       "    </tr>\n",
       "    <tr>\n",
       "      <th>...</th>\n",
       "      <td>...</td>\n",
       "      <td>...</td>\n",
       "      <td>...</td>\n",
       "      <td>...</td>\n",
       "    </tr>\n",
       "    <tr>\n",
       "      <th>2023-12-27</th>\n",
       "      <td>18.48</td>\n",
       "      <td>11.05</td>\n",
       "      <td>0.02</td>\n",
       "      <td>18.74</td>\n",
       "    </tr>\n",
       "    <tr>\n",
       "      <th>2023-12-28</th>\n",
       "      <td>18.74</td>\n",
       "      <td>10.74</td>\n",
       "      <td>0.00</td>\n",
       "      <td>18.73</td>\n",
       "    </tr>\n",
       "    <tr>\n",
       "      <th>2023-12-29</th>\n",
       "      <td>18.73</td>\n",
       "      <td>10.86</td>\n",
       "      <td>0.01</td>\n",
       "      <td>18.24</td>\n",
       "    </tr>\n",
       "    <tr>\n",
       "      <th>2023-12-30</th>\n",
       "      <td>18.24</td>\n",
       "      <td>10.25</td>\n",
       "      <td>0.00</td>\n",
       "      <td>17.09</td>\n",
       "    </tr>\n",
       "    <tr>\n",
       "      <th>2023-12-31</th>\n",
       "      <td>17.09</td>\n",
       "      <td>9.58</td>\n",
       "      <td>0.00</td>\n",
       "      <td>16.30</td>\n",
       "    </tr>\n",
       "  </tbody>\n",
       "</table>\n",
       "<p>1826 rows × 4 columns</p>\n",
       "</div>"
      ],
      "text/plain": [
       "            temp_avg  humidity  precip  target\n",
       "date                                          \n",
       "2019-01-01     15.97      6.35    0.00   16.44\n",
       "2019-01-02     16.44      6.90    0.00   15.19\n",
       "2019-01-03     15.19      5.74    0.00   14.06\n",
       "2019-01-04     14.06      5.49    0.00   16.16\n",
       "2019-01-05     16.16      7.08    0.00   17.73\n",
       "...              ...       ...     ...     ...\n",
       "2023-12-27     18.48     11.05    0.02   18.74\n",
       "2023-12-28     18.74     10.74    0.00   18.73\n",
       "2023-12-29     18.73     10.86    0.01   18.24\n",
       "2023-12-30     18.24     10.25    0.00   17.09\n",
       "2023-12-31     17.09      9.58    0.00   16.30\n",
       "\n",
       "[1826 rows x 4 columns]"
      ]
     },
     "execution_count": 95,
     "metadata": {},
     "output_type": "execute_result"
    }
   ],
   "source": [
    "test=core_weather.loc[\"2019-01-01\":]\n",
    "test"
   ]
  },
  {
   "cell_type": "code",
   "execution_count": 96,
   "id": "72e0895a",
   "metadata": {},
   "outputs": [
    {
     "data": {
      "text/html": [
       "<style>#sk-container-id-3 {color: black;}#sk-container-id-3 pre{padding: 0;}#sk-container-id-3 div.sk-toggleable {background-color: white;}#sk-container-id-3 label.sk-toggleable__label {cursor: pointer;display: block;width: 100%;margin-bottom: 0;padding: 0.3em;box-sizing: border-box;text-align: center;}#sk-container-id-3 label.sk-toggleable__label-arrow:before {content: \"▸\";float: left;margin-right: 0.25em;color: #696969;}#sk-container-id-3 label.sk-toggleable__label-arrow:hover:before {color: black;}#sk-container-id-3 div.sk-estimator:hover label.sk-toggleable__label-arrow:before {color: black;}#sk-container-id-3 div.sk-toggleable__content {max-height: 0;max-width: 0;overflow: hidden;text-align: left;background-color: #f0f8ff;}#sk-container-id-3 div.sk-toggleable__content pre {margin: 0.2em;color: black;border-radius: 0.25em;background-color: #f0f8ff;}#sk-container-id-3 input.sk-toggleable__control:checked~div.sk-toggleable__content {max-height: 200px;max-width: 100%;overflow: auto;}#sk-container-id-3 input.sk-toggleable__control:checked~label.sk-toggleable__label-arrow:before {content: \"▾\";}#sk-container-id-3 div.sk-estimator input.sk-toggleable__control:checked~label.sk-toggleable__label {background-color: #d4ebff;}#sk-container-id-3 div.sk-label input.sk-toggleable__control:checked~label.sk-toggleable__label {background-color: #d4ebff;}#sk-container-id-3 input.sk-hidden--visually {border: 0;clip: rect(1px 1px 1px 1px);clip: rect(1px, 1px, 1px, 1px);height: 1px;margin: -1px;overflow: hidden;padding: 0;position: absolute;width: 1px;}#sk-container-id-3 div.sk-estimator {font-family: monospace;background-color: #f0f8ff;border: 1px dotted black;border-radius: 0.25em;box-sizing: border-box;margin-bottom: 0.5em;}#sk-container-id-3 div.sk-estimator:hover {background-color: #d4ebff;}#sk-container-id-3 div.sk-parallel-item::after {content: \"\";width: 100%;border-bottom: 1px solid gray;flex-grow: 1;}#sk-container-id-3 div.sk-label:hover label.sk-toggleable__label {background-color: #d4ebff;}#sk-container-id-3 div.sk-serial::before {content: \"\";position: absolute;border-left: 1px solid gray;box-sizing: border-box;top: 0;bottom: 0;left: 50%;z-index: 0;}#sk-container-id-3 div.sk-serial {display: flex;flex-direction: column;align-items: center;background-color: white;padding-right: 0.2em;padding-left: 0.2em;position: relative;}#sk-container-id-3 div.sk-item {position: relative;z-index: 1;}#sk-container-id-3 div.sk-parallel {display: flex;align-items: stretch;justify-content: center;background-color: white;position: relative;}#sk-container-id-3 div.sk-item::before, #sk-container-id-3 div.sk-parallel-item::before {content: \"\";position: absolute;border-left: 1px solid gray;box-sizing: border-box;top: 0;bottom: 0;left: 50%;z-index: -1;}#sk-container-id-3 div.sk-parallel-item {display: flex;flex-direction: column;z-index: 1;position: relative;background-color: white;}#sk-container-id-3 div.sk-parallel-item:first-child::after {align-self: flex-end;width: 50%;}#sk-container-id-3 div.sk-parallel-item:last-child::after {align-self: flex-start;width: 50%;}#sk-container-id-3 div.sk-parallel-item:only-child::after {width: 0;}#sk-container-id-3 div.sk-dashed-wrapped {border: 1px dashed gray;margin: 0 0.4em 0.5em 0.4em;box-sizing: border-box;padding-bottom: 0.4em;background-color: white;}#sk-container-id-3 div.sk-label label {font-family: monospace;font-weight: bold;display: inline-block;line-height: 1.2em;}#sk-container-id-3 div.sk-label-container {text-align: center;}#sk-container-id-3 div.sk-container {/* jupyter's `normalize.less` sets `[hidden] { display: none; }` but bootstrap.min.css set `[hidden] { display: none !important; }` so we also need the `!important` here to be able to override the default hidden behavior on the sphinx rendered scikit-learn.org. See: https://github.com/scikit-learn/scikit-learn/issues/21755 */display: inline-block !important;position: relative;}#sk-container-id-3 div.sk-text-repr-fallback {display: none;}</style><div id=\"sk-container-id-3\" class=\"sk-top-container\"><div class=\"sk-text-repr-fallback\"><pre>Ridge(alpha=0.1)</pre><b>In a Jupyter environment, please rerun this cell to show the HTML representation or trust the notebook. <br />On GitHub, the HTML representation is unable to render, please try loading this page with nbviewer.org.</b></div><div class=\"sk-container\" hidden><div class=\"sk-item\"><div class=\"sk-estimator sk-toggleable\"><input class=\"sk-toggleable__control sk-hidden--visually\" id=\"sk-estimator-id-3\" type=\"checkbox\" checked><label for=\"sk-estimator-id-3\" class=\"sk-toggleable__label sk-toggleable__label-arrow\">Ridge</label><div class=\"sk-toggleable__content\"><pre>Ridge(alpha=0.1)</pre></div></div></div></div></div>"
      ],
      "text/plain": [
       "Ridge(alpha=0.1)"
      ]
     },
     "execution_count": 96,
     "metadata": {},
     "output_type": "execute_result"
    }
   ],
   "source": [
    "reg.fit(train[predictor], train[\"target\"])"
   ]
  },
  {
   "cell_type": "code",
   "execution_count": 102,
   "id": "77ea5bfb",
   "metadata": {},
   "outputs": [],
   "source": [
    "prediction=reg.predict(test[predictor])"
   ]
  },
  {
   "cell_type": "code",
   "execution_count": 103,
   "id": "162338c9",
   "metadata": {},
   "outputs": [],
   "source": [
    "from sklearn.metrics import mean_absolute_error"
   ]
  },
  {
   "cell_type": "code",
   "execution_count": 111,
   "id": "22808f8e",
   "metadata": {},
   "outputs": [
    {
     "data": {
      "text/plain": [
       "0.7323114375186182"
      ]
     },
     "execution_count": 111,
     "metadata": {},
     "output_type": "execute_result"
    }
   ],
   "source": [
    "mean_absolute_error(test[\"target\"], prediction)"
   ]
  },
  {
   "cell_type": "code",
   "execution_count": 112,
   "id": "37cb7197",
   "metadata": {},
   "outputs": [
    {
     "data": {
      "text/plain": [
       "0.9690682426132317"
      ]
     },
     "execution_count": 112,
     "metadata": {},
     "output_type": "execute_result"
    }
   ],
   "source": [
    "reg.score(train[predictor], train[\"target\"])"
   ]
  },
  {
   "cell_type": "code",
   "execution_count": 107,
   "id": "cdff4312",
   "metadata": {},
   "outputs": [
    {
     "data": {
      "text/html": [
       "<div>\n",
       "<style scoped>\n",
       "    .dataframe tbody tr th:only-of-type {\n",
       "        vertical-align: middle;\n",
       "    }\n",
       "\n",
       "    .dataframe tbody tr th {\n",
       "        vertical-align: top;\n",
       "    }\n",
       "\n",
       "    .dataframe thead th {\n",
       "        text-align: right;\n",
       "    }\n",
       "</style>\n",
       "<table border=\"1\" class=\"dataframe\">\n",
       "  <thead>\n",
       "    <tr style=\"text-align: right;\">\n",
       "      <th></th>\n",
       "      <th>temp_avg</th>\n",
       "      <th>humidity</th>\n",
       "      <th>precip</th>\n",
       "      <th>target</th>\n",
       "    </tr>\n",
       "    <tr>\n",
       "      <th>date</th>\n",
       "      <th></th>\n",
       "      <th></th>\n",
       "      <th></th>\n",
       "      <th></th>\n",
       "    </tr>\n",
       "  </thead>\n",
       "  <tbody>\n",
       "    <tr>\n",
       "      <th>2019-01-01</th>\n",
       "      <td>15.97</td>\n",
       "      <td>6.35</td>\n",
       "      <td>0.00</td>\n",
       "      <td>16.44</td>\n",
       "    </tr>\n",
       "    <tr>\n",
       "      <th>2019-01-02</th>\n",
       "      <td>16.44</td>\n",
       "      <td>6.90</td>\n",
       "      <td>0.00</td>\n",
       "      <td>15.19</td>\n",
       "    </tr>\n",
       "    <tr>\n",
       "      <th>2019-01-03</th>\n",
       "      <td>15.19</td>\n",
       "      <td>5.74</td>\n",
       "      <td>0.00</td>\n",
       "      <td>14.06</td>\n",
       "    </tr>\n",
       "    <tr>\n",
       "      <th>2019-01-04</th>\n",
       "      <td>14.06</td>\n",
       "      <td>5.49</td>\n",
       "      <td>0.00</td>\n",
       "      <td>16.16</td>\n",
       "    </tr>\n",
       "    <tr>\n",
       "      <th>2019-01-05</th>\n",
       "      <td>16.16</td>\n",
       "      <td>7.08</td>\n",
       "      <td>0.00</td>\n",
       "      <td>17.73</td>\n",
       "    </tr>\n",
       "    <tr>\n",
       "      <th>...</th>\n",
       "      <td>...</td>\n",
       "      <td>...</td>\n",
       "      <td>...</td>\n",
       "      <td>...</td>\n",
       "    </tr>\n",
       "    <tr>\n",
       "      <th>2023-12-27</th>\n",
       "      <td>18.48</td>\n",
       "      <td>11.05</td>\n",
       "      <td>0.02</td>\n",
       "      <td>18.74</td>\n",
       "    </tr>\n",
       "    <tr>\n",
       "      <th>2023-12-28</th>\n",
       "      <td>18.74</td>\n",
       "      <td>10.74</td>\n",
       "      <td>0.00</td>\n",
       "      <td>18.73</td>\n",
       "    </tr>\n",
       "    <tr>\n",
       "      <th>2023-12-29</th>\n",
       "      <td>18.73</td>\n",
       "      <td>10.86</td>\n",
       "      <td>0.01</td>\n",
       "      <td>18.24</td>\n",
       "    </tr>\n",
       "    <tr>\n",
       "      <th>2023-12-30</th>\n",
       "      <td>18.24</td>\n",
       "      <td>10.25</td>\n",
       "      <td>0.00</td>\n",
       "      <td>17.09</td>\n",
       "    </tr>\n",
       "    <tr>\n",
       "      <th>2023-12-31</th>\n",
       "      <td>17.09</td>\n",
       "      <td>9.58</td>\n",
       "      <td>0.00</td>\n",
       "      <td>16.30</td>\n",
       "    </tr>\n",
       "  </tbody>\n",
       "</table>\n",
       "<p>1826 rows × 4 columns</p>\n",
       "</div>"
      ],
      "text/plain": [
       "            temp_avg  humidity  precip  target\n",
       "date                                          \n",
       "2019-01-01     15.97      6.35    0.00   16.44\n",
       "2019-01-02     16.44      6.90    0.00   15.19\n",
       "2019-01-03     15.19      5.74    0.00   14.06\n",
       "2019-01-04     14.06      5.49    0.00   16.16\n",
       "2019-01-05     16.16      7.08    0.00   17.73\n",
       "...              ...       ...     ...     ...\n",
       "2023-12-27     18.48     11.05    0.02   18.74\n",
       "2023-12-28     18.74     10.74    0.00   18.73\n",
       "2023-12-29     18.73     10.86    0.01   18.24\n",
       "2023-12-30     18.24     10.25    0.00   17.09\n",
       "2023-12-31     17.09      9.58    0.00   16.30\n",
       "\n",
       "[1826 rows x 4 columns]"
      ]
     },
     "execution_count": 107,
     "metadata": {},
     "output_type": "execute_result"
    }
   ],
   "source": [
    "test"
   ]
  },
  {
   "cell_type": "code",
   "execution_count": 108,
   "id": "c8cd194c",
   "metadata": {},
   "outputs": [],
   "source": [
    "combined= pd.concat([test[\"target\"],pd.Series(prediction, index= test.index)], axis=1)\n",
    "combined.columns = [\"actuals\",\"prediction\"]"
   ]
  },
  {
   "cell_type": "code",
   "execution_count": 109,
   "id": "69aa0758",
   "metadata": {},
   "outputs": [
    {
     "data": {
      "text/html": [
       "<div>\n",
       "<style scoped>\n",
       "    .dataframe tbody tr th:only-of-type {\n",
       "        vertical-align: middle;\n",
       "    }\n",
       "\n",
       "    .dataframe tbody tr th {\n",
       "        vertical-align: top;\n",
       "    }\n",
       "\n",
       "    .dataframe thead th {\n",
       "        text-align: right;\n",
       "    }\n",
       "</style>\n",
       "<table border=\"1\" class=\"dataframe\">\n",
       "  <thead>\n",
       "    <tr style=\"text-align: right;\">\n",
       "      <th></th>\n",
       "      <th>actuals</th>\n",
       "      <th>prediction</th>\n",
       "    </tr>\n",
       "    <tr>\n",
       "      <th>date</th>\n",
       "      <th></th>\n",
       "      <th></th>\n",
       "    </tr>\n",
       "  </thead>\n",
       "  <tbody>\n",
       "    <tr>\n",
       "      <th>2019-01-01</th>\n",
       "      <td>16.44</td>\n",
       "      <td>16.138646</td>\n",
       "    </tr>\n",
       "    <tr>\n",
       "      <th>2019-01-02</th>\n",
       "      <td>15.19</td>\n",
       "      <td>16.596423</td>\n",
       "    </tr>\n",
       "    <tr>\n",
       "      <th>2019-01-03</th>\n",
       "      <td>14.06</td>\n",
       "      <td>15.374383</td>\n",
       "    </tr>\n",
       "    <tr>\n",
       "      <th>2019-01-04</th>\n",
       "      <td>16.16</td>\n",
       "      <td>14.257661</td>\n",
       "    </tr>\n",
       "    <tr>\n",
       "      <th>2019-01-05</th>\n",
       "      <td>17.73</td>\n",
       "      <td>16.316078</td>\n",
       "    </tr>\n",
       "    <tr>\n",
       "      <th>...</th>\n",
       "      <td>...</td>\n",
       "      <td>...</td>\n",
       "    </tr>\n",
       "    <tr>\n",
       "      <th>2023-12-27</th>\n",
       "      <td>18.74</td>\n",
       "      <td>18.557090</td>\n",
       "    </tr>\n",
       "    <tr>\n",
       "      <th>2023-12-28</th>\n",
       "      <td>18.73</td>\n",
       "      <td>18.819352</td>\n",
       "    </tr>\n",
       "    <tr>\n",
       "      <th>2023-12-29</th>\n",
       "      <td>18.24</td>\n",
       "      <td>18.807736</td>\n",
       "    </tr>\n",
       "    <tr>\n",
       "      <th>2023-12-30</th>\n",
       "      <td>17.09</td>\n",
       "      <td>18.330927</td>\n",
       "    </tr>\n",
       "    <tr>\n",
       "      <th>2023-12-31</th>\n",
       "      <td>16.30</td>\n",
       "      <td>17.200683</td>\n",
       "    </tr>\n",
       "  </tbody>\n",
       "</table>\n",
       "<p>1826 rows × 2 columns</p>\n",
       "</div>"
      ],
      "text/plain": [
       "            actuals  prediction\n",
       "date                           \n",
       "2019-01-01    16.44   16.138646\n",
       "2019-01-02    15.19   16.596423\n",
       "2019-01-03    14.06   15.374383\n",
       "2019-01-04    16.16   14.257661\n",
       "2019-01-05    17.73   16.316078\n",
       "...             ...         ...\n",
       "2023-12-27    18.74   18.557090\n",
       "2023-12-28    18.73   18.819352\n",
       "2023-12-29    18.24   18.807736\n",
       "2023-12-30    17.09   18.330927\n",
       "2023-12-31    16.30   17.200683\n",
       "\n",
       "[1826 rows x 2 columns]"
      ]
     },
     "execution_count": 109,
     "metadata": {},
     "output_type": "execute_result"
    }
   ],
   "source": [
    "combined"
   ]
  },
  {
   "cell_type": "code",
   "execution_count": 110,
   "id": "689f8e9a",
   "metadata": {},
   "outputs": [
    {
     "data": {
      "text/plain": [
       "<Axes: xlabel='date'>"
      ]
     },
     "execution_count": 110,
     "metadata": {},
     "output_type": "execute_result"
    },
    {
     "data": {
      "image/png": "[encoded data removed]",
      "text/plain": [
       "<Figure size 640x480 with 1 Axes>"
      ]
     },
     "metadata": {},
     "output_type": "display_data"
    }
   ],
   "source": [
    "ax= combined.plot()\n",
    "ax.set_xlabel('Date')\n",
    "ax.set_ylabel('')\n",
    "ax.set_title('Mean Squared Error for Different Models')"
   ]
  },
  {
   "cell_type": "code",
   "execution_count": 143,
   "id": "7bc5b819",
   "metadata": {},
   "outputs": [],
   "source": [
    "int_features=[16,7,0]\n",
    "import numpy as np\n",
    "final=[np.array(int_features)]"
   ]
  },
  {
   "cell_type": "code",
   "execution_count": 162,
   "id": "3cd05e6d",
   "metadata": {},
   "outputs": [
    {
     "data": {
      "text/plain": [
       "Index(['temp_avg', 'humidity', 'precip', 'target'], dtype='object')"
      ]
     },
     "execution_count": 162,
     "metadata": {},
     "output_type": "execute_result"
    }
   ],
   "source": [
    "core_weather.columns"
   ]
  },
  {
   "cell_type": "code",
   "execution_count": 170,
   "id": "3a725c57",
   "metadata": {},
   "outputs": [
    {
     "data": {
      "text/plain": [
       "array([16.12960344])"
      ]
     },
     "execution_count": 170,
     "metadata": {},
     "output_type": "execute_result"
    }
   ],
   "source": [
    "new_data = np.array([[16.0, 9.0, 0.0]])  # Replace this with your own input features\n",
    "\n",
    "feature_names = ['temp_avg', 'humidity', 'precip']\n",
    "new_data_dict = {'temp_avg': [16.0], 'humidity': [9.0], 'precip': [0.1]}\n",
    "new_data_df = pd.DataFrame(new_data_dict, columns=feature_names)\n",
    "# Example: Making predictions\n",
    "prediction = reg.predict(new_data_df[predictor])\n",
    "prediction"
   ]
  },
  {
   "cell_type": "code",
   "execution_count": 171,
   "id": "679a3e42",
   "metadata": {},
   "outputs": [
    {
     "data": {
      "text/plain": [
       "array([16.12960344])"
      ]
     },
     "execution_count": 171,
     "metadata": {},
     "output_type": "execute_result"
    }
   ],
   "source": [
    "prediction"
   ]
  },
  {
   "cell_type": "code",
   "execution_count": 184,
   "id": "0b7d945d",
   "metadata": {},
   "outputs": [
    {
     "name": "stdout",
     "output_type": "stream",
     "text": [
      "[86.0, 0, 0]\n",
      "   temp_avg  precip  humidity\n",
      "0      86.0       0         0\n",
      "prediction=[85.67394957]\n"
     ]
    }
   ],
   "source": [
    "int_features= [86.0, 0, 0]\n",
    "feature_names = ['temp_avg', 'precip','humidity']\n",
    "predictor=[\"precip\",\"temp_avg\",\"humidity\"]\n",
    "new_data_df = pd.DataFrame([int_features], columns=feature_names)\n",
    "prediction = reg.predict(new_data_df[predictor])\n",
    "print(int_features)\n",
    "print(new_data_df)\n",
    "# prediction=model.predict_proba(final)\n",
    "print(f\"prediction={prediction}\")"
   ]
  },
  {
   "cell_type": "code",
   "execution_count": 149,
   "id": "31436ebc",
   "metadata": {},
   "outputs": [],
   "source": [
    "mse_values = {\n",
    "    'Ridge Regression': 0.9820560050621511,\n",
    "    'Random Forest Regression': 1.139919832457926,\n",
    "    'Decision Tree Regression': 2.0911670865279297\n",
    "}\n",
    "mse_df = pd.DataFrame(list(mse_values.items()), columns=['Model', 'Mean Squared Error'])"
   ]
  },
  {
   "cell_type": "code",
   "execution_count": 172,
   "id": "7e84829a",
   "metadata": {},
   "outputs": [],
   "source": [
    "import pickle\n",
    "\n",
    "# Assuming 'ridge_model' is your trained Ridge Regression model\n",
    "with open('ridge_model.pkl', 'wb') as model_file:\n",
    "    pickle.dump(reg, model_file)"
   ]
  },
  {
   "cell_type": "code",
   "execution_count": 152,
   "id": "7b001136",
   "metadata": {},
   "outputs": [
    {
     "data": {
      "text/html": [
       "<div>\n",
       "<style scoped>\n",
       "    .dataframe tbody tr th:only-of-type {\n",
       "        vertical-align: middle;\n",
       "    }\n",
       "\n",
       "    .dataframe tbody tr th {\n",
       "        vertical-align: top;\n",
       "    }\n",
       "\n",
       "    .dataframe thead th {\n",
       "        text-align: right;\n",
       "    }\n",
       "</style>\n",
       "<table border=\"1\" class=\"dataframe\">\n",
       "  <thead>\n",
       "    <tr style=\"text-align: right;\">\n",
       "      <th></th>\n",
       "      <th>Model</th>\n",
       "      <th>Mean Squared Error</th>\n",
       "    </tr>\n",
       "  </thead>\n",
       "  <tbody>\n",
       "    <tr>\n",
       "      <th>0</th>\n",
       "      <td>Ridge Regression</td>\n",
       "      <td>0.982056</td>\n",
       "    </tr>\n",
       "    <tr>\n",
       "      <th>1</th>\n",
       "      <td>Random Forest Regression</td>\n",
       "      <td>1.139920</td>\n",
       "    </tr>\n",
       "    <tr>\n",
       "      <th>2</th>\n",
       "      <td>Decision Tree Regression</td>\n",
       "      <td>2.091167</td>\n",
       "    </tr>\n",
       "  </tbody>\n",
       "</table>\n",
       "</div>"
      ],
      "text/plain": [
       "                      Model  Mean Squared Error\n",
       "0          Ridge Regression            0.982056\n",
       "1  Random Forest Regression            1.139920\n",
       "2  Decision Tree Regression            2.091167"
      ]
     },
     "execution_count": 152,
     "metadata": {},
     "output_type": "execute_result"
    }
   ],
   "source": [
    "mse_df"
   ]
  },
  {
   "cell_type": "code",
   "execution_count": 178,
   "id": "a6288640",
   "metadata": {},
   "outputs": [],
   "source": [
    "core_weather.to_csv('core_weather.csv', index=True)"
   ]
  },
  {
   "cell_type": "code",
   "execution_count": null,
   "id": "e9ceab7e",
   "metadata": {},
   "outputs": [],
   "source": []
  }
 ],
 "metadata": {
  "kernelspec": {
   "display_name": "Python 3 (ipykernel)",
   "language": "python",
   "name": "python3"
  },
  "language_info": {
   "codemirror_mode": {
    "name": "ipython",
    "version": 3
   },
   "file_extension": ".py",
   "mimetype": "text/x-python",
   "name": "python",
   "nbconvert_exporter": "python",
   "pygments_lexer": "ipython3",
   "version": "3.11.5"
  }
 },
 "nbformat": 4,
 "nbformat_minor": 5
}
